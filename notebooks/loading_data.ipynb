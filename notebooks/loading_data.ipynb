{
 "cells": [
  {
   "cell_type": "code",
   "execution_count": 1,
   "metadata": {
    "collapsed": true
   },
   "outputs": [],
   "source": [
    "import pandas as pd\n",
    "import datetime\n",
    "import os\n",
    "\n",
    "DATA_DIR = '../data/raw/'\n",
    "#The files are given as fixed width files.\n",
    "#See Documentation in ../data/\n",
    "\n",
    "#All columns in the WY2 files.  Most of this information isn't useful to me\n",
    "#WY2_colspecs = [(0, 5), (5, 6), (6, 16), (16, 20), (20, 24),\n",
    "#                (24, 26), (26, 30), (30, 32), (32, 36), (36, 38),\n",
    "#                (38, 42), (42, 43), (43, 47), (47, 48), (48, 52),\n",
    "#                (52, 53), (53, 57), (57, 58), (58, 60), (60, 61),\n",
    "#                (61, 65), (65, 66), (66, 70), (70, 71), (71, 75),\n",
    "#                (75, 76), (76, 84), (84, 85), (85, 90), (90, 91),\n",
    "#                (91, 92), (92, 95), (95, 96), (96, 100), (100, 101),\n",
    "#                (101, 104), (104, 105), (105, 109), (109, 110),\n",
    "#                (110, 112), (112, 113), (113, 115), (115, 116),\n",
    "#                (116, 117), (117, 118)]\n"
   ]
  },
  {
   "cell_type": "markdown",
   "metadata": {},
   "source": [
    "There is a metadata file that contains lat long coordinates of stations, identified by their WBAN number.\n",
    "\n",
    "Further, the time recordings at each station are given in \"local standard time\" (LST), and the mlong coordinate provides a means to convert to UTC (universal time): LST = UTC - MLONG/15, or UTC = LST + MLONG/15 (all units in hours). I will convert all of the times into UTC"
   ]
  },
  {
   "cell_type": "code",
   "execution_count": 2,
   "metadata": {
    "collapsed": true
   },
   "outputs": [],
   "source": [
    "col_names = ['Name',  'WBAN',   'lat',    'long',  'mlong', 'first_year', 'last_year']\n",
    "loc_cols =  [(0,24), (24, 30), (45, 52), (52, 58), (59, 65),  (74, 76),     (77, 79)]"
   ]
  },
  {
   "cell_type": "code",
   "execution_count": 3,
   "metadata": {
    "collapsed": true
   },
   "outputs": [],
   "source": [
    "D_loc = pd.read_fwf(DATA_DIR + 'locations.txt', colspecs = loc_cols, comment = '#',\n",
    "                    header = None, names = col_names)"
   ]
  },
  {
   "cell_type": "code",
   "execution_count": 4,
   "metadata": {},
   "outputs": [
    {
     "data": {
      "text/plain": [
       "235"
      ]
     },
     "execution_count": 4,
     "metadata": {},
     "output_type": "execute_result"
    }
   ],
   "source": [
    "len(D_loc) #Total number of time series records."
   ]
  },
  {
   "cell_type": "code",
   "execution_count": 5,
   "metadata": {},
   "outputs": [
    {
     "data": {
      "text/html": [
       "<div>\n",
       "<table border=\"1\" class=\"dataframe\">\n",
       "  <thead>\n",
       "    <tr style=\"text-align: right;\">\n",
       "      <th></th>\n",
       "      <th>Name</th>\n",
       "      <th>WBAN</th>\n",
       "      <th>lat</th>\n",
       "      <th>long</th>\n",
       "      <th>mlong</th>\n",
       "      <th>first_year</th>\n",
       "      <th>last_year</th>\n",
       "    </tr>\n",
       "  </thead>\n",
       "  <tbody>\n",
       "    <tr>\n",
       "      <th>0</th>\n",
       "      <td>CALGARY INT'L. A</td>\n",
       "      <td>25110</td>\n",
       "      <td>51.10</td>\n",
       "      <td>114.02</td>\n",
       "      <td>105.0</td>\n",
       "      <td>53</td>\n",
       "      <td>5</td>\n",
       "    </tr>\n",
       "    <tr>\n",
       "      <th>1</th>\n",
       "      <td>COLD LAKE A</td>\n",
       "      <td>25129</td>\n",
       "      <td>54.42</td>\n",
       "      <td>110.28</td>\n",
       "      <td>105.0</td>\n",
       "      <td>54</td>\n",
       "      <td>5</td>\n",
       "    </tr>\n",
       "    <tr>\n",
       "      <th>2</th>\n",
       "      <td>CORONATION</td>\n",
       "      <td>25113</td>\n",
       "      <td>52.10</td>\n",
       "      <td>111.45</td>\n",
       "      <td>105.0</td>\n",
       "      <td>53</td>\n",
       "      <td>94</td>\n",
       "    </tr>\n",
       "    <tr>\n",
       "      <th>3</th>\n",
       "      <td>COWLEY A</td>\n",
       "      <td>CAN43</td>\n",
       "      <td>49.63</td>\n",
       "      <td>114.08</td>\n",
       "      <td>105.0</td>\n",
       "      <td>53</td>\n",
       "      <td>59</td>\n",
       "    </tr>\n",
       "    <tr>\n",
       "      <th>4</th>\n",
       "      <td>EDMONTON INT'L. A</td>\n",
       "      <td>25142</td>\n",
       "      <td>53.32</td>\n",
       "      <td>113.58</td>\n",
       "      <td>105.0</td>\n",
       "      <td>61</td>\n",
       "      <td>5</td>\n",
       "    </tr>\n",
       "  </tbody>\n",
       "</table>\n",
       "</div>"
      ],
      "text/plain": [
       "                Name   WBAN    lat    long  mlong  first_year  last_year\n",
       "0   CALGARY INT'L. A  25110  51.10  114.02  105.0          53          5\n",
       "1        COLD LAKE A  25129  54.42  110.28  105.0          54          5\n",
       "2         CORONATION  25113  52.10  111.45  105.0          53         94\n",
       "3           COWLEY A  CAN43  49.63  114.08  105.0          53         59\n",
       "4  EDMONTON INT'L. A  25142  53.32  113.58  105.0          61          5"
      ]
     },
     "execution_count": 5,
     "metadata": {},
     "output_type": "execute_result"
    }
   ],
   "source": [
    "D_loc.head()"
   ]
  },
  {
   "cell_type": "code",
   "execution_count": 6,
   "metadata": {
    "collapsed": true
   },
   "outputs": [],
   "source": [
    "#The year is specified only with the last 2 digits\n",
    "#but, data collection started in after 1950 and ended before 2050\n",
    "def fix_year(yr : int):\n",
    "    if yr > 50:\n",
    "        yr += 1900\n",
    "    else:\n",
    "        yr += 2000\n",
    "    return yr"
   ]
  },
  {
   "cell_type": "code",
   "execution_count": 7,
   "metadata": {
    "collapsed": true
   },
   "outputs": [],
   "source": [
    "D_loc.loc[:, ['first_year', 'last_year']] = D_loc.loc[:, ['first_year', 'last_year']].applymap(fix_year)"
   ]
  },
  {
   "cell_type": "code",
   "execution_count": 8,
   "metadata": {},
   "outputs": [
    {
     "data": {
      "text/html": [
       "<div>\n",
       "<table border=\"1\" class=\"dataframe\">\n",
       "  <thead>\n",
       "    <tr style=\"text-align: right;\">\n",
       "      <th></th>\n",
       "      <th>Name</th>\n",
       "      <th>WBAN</th>\n",
       "      <th>lat</th>\n",
       "      <th>long</th>\n",
       "      <th>mlong</th>\n",
       "      <th>first_year</th>\n",
       "      <th>last_year</th>\n",
       "    </tr>\n",
       "  </thead>\n",
       "  <tbody>\n",
       "    <tr>\n",
       "      <th>0</th>\n",
       "      <td>CALGARY INT'L. A</td>\n",
       "      <td>25110</td>\n",
       "      <td>51.10</td>\n",
       "      <td>114.02</td>\n",
       "      <td>105.0</td>\n",
       "      <td>1953</td>\n",
       "      <td>2005</td>\n",
       "    </tr>\n",
       "    <tr>\n",
       "      <th>1</th>\n",
       "      <td>COLD LAKE A</td>\n",
       "      <td>25129</td>\n",
       "      <td>54.42</td>\n",
       "      <td>110.28</td>\n",
       "      <td>105.0</td>\n",
       "      <td>1954</td>\n",
       "      <td>2005</td>\n",
       "    </tr>\n",
       "    <tr>\n",
       "      <th>2</th>\n",
       "      <td>CORONATION</td>\n",
       "      <td>25113</td>\n",
       "      <td>52.10</td>\n",
       "      <td>111.45</td>\n",
       "      <td>105.0</td>\n",
       "      <td>1953</td>\n",
       "      <td>1994</td>\n",
       "    </tr>\n",
       "    <tr>\n",
       "      <th>3</th>\n",
       "      <td>COWLEY A</td>\n",
       "      <td>CAN43</td>\n",
       "      <td>49.63</td>\n",
       "      <td>114.08</td>\n",
       "      <td>105.0</td>\n",
       "      <td>1953</td>\n",
       "      <td>1959</td>\n",
       "    </tr>\n",
       "    <tr>\n",
       "      <th>4</th>\n",
       "      <td>EDMONTON INT'L. A</td>\n",
       "      <td>25142</td>\n",
       "      <td>53.32</td>\n",
       "      <td>113.58</td>\n",
       "      <td>105.0</td>\n",
       "      <td>1961</td>\n",
       "      <td>2005</td>\n",
       "    </tr>\n",
       "  </tbody>\n",
       "</table>\n",
       "</div>"
      ],
      "text/plain": [
       "                Name   WBAN    lat    long  mlong  first_year  last_year\n",
       "0   CALGARY INT'L. A  25110  51.10  114.02  105.0        1953       2005\n",
       "1        COLD LAKE A  25129  54.42  110.28  105.0        1954       2005\n",
       "2         CORONATION  25113  52.10  111.45  105.0        1953       1994\n",
       "3           COWLEY A  CAN43  49.63  114.08  105.0        1953       1959\n",
       "4  EDMONTON INT'L. A  25142  53.32  113.58  105.0        1961       2005"
      ]
     },
     "execution_count": 8,
     "metadata": {},
     "output_type": "execute_result"
    }
   ],
   "source": [
    "D_loc.head()"
   ]
  },
  {
   "cell_type": "code",
   "execution_count": 9,
   "metadata": {
    "collapsed": true
   },
   "outputs": [],
   "source": [
    "def time_correction(mlong : float):\n",
    "    '''The time delta to add to an LST time to yield a UTC time,\n",
    "    given the prime meridian mlong in degrees.'''\n",
    "    return datetime.timedelta(hours = mlong / 15)"
   ]
  },
  {
   "cell_type": "code",
   "execution_count": 10,
   "metadata": {
    "collapsed": true
   },
   "outputs": [],
   "source": [
    "D_loc['time_correction'] = D_loc.loc[:, 'mlong'].apply(time_correction)"
   ]
  },
  {
   "cell_type": "code",
   "execution_count": 11,
   "metadata": {},
   "outputs": [
    {
     "data": {
      "text/html": [
       "<div>\n",
       "<table border=\"1\" class=\"dataframe\">\n",
       "  <thead>\n",
       "    <tr style=\"text-align: right;\">\n",
       "      <th></th>\n",
       "      <th>Name</th>\n",
       "      <th>WBAN</th>\n",
       "      <th>lat</th>\n",
       "      <th>long</th>\n",
       "      <th>mlong</th>\n",
       "      <th>first_year</th>\n",
       "      <th>last_year</th>\n",
       "      <th>time_correction</th>\n",
       "    </tr>\n",
       "  </thead>\n",
       "  <tbody>\n",
       "    <tr>\n",
       "      <th>0</th>\n",
       "      <td>CALGARY INT'L. A</td>\n",
       "      <td>25110</td>\n",
       "      <td>51.10</td>\n",
       "      <td>114.02</td>\n",
       "      <td>105.0</td>\n",
       "      <td>1953</td>\n",
       "      <td>2005</td>\n",
       "      <td>07:00:00</td>\n",
       "    </tr>\n",
       "    <tr>\n",
       "      <th>1</th>\n",
       "      <td>COLD LAKE A</td>\n",
       "      <td>25129</td>\n",
       "      <td>54.42</td>\n",
       "      <td>110.28</td>\n",
       "      <td>105.0</td>\n",
       "      <td>1954</td>\n",
       "      <td>2005</td>\n",
       "      <td>07:00:00</td>\n",
       "    </tr>\n",
       "    <tr>\n",
       "      <th>2</th>\n",
       "      <td>CORONATION</td>\n",
       "      <td>25113</td>\n",
       "      <td>52.10</td>\n",
       "      <td>111.45</td>\n",
       "      <td>105.0</td>\n",
       "      <td>1953</td>\n",
       "      <td>1994</td>\n",
       "      <td>07:00:00</td>\n",
       "    </tr>\n",
       "    <tr>\n",
       "      <th>3</th>\n",
       "      <td>COWLEY A</td>\n",
       "      <td>CAN43</td>\n",
       "      <td>49.63</td>\n",
       "      <td>114.08</td>\n",
       "      <td>105.0</td>\n",
       "      <td>1953</td>\n",
       "      <td>1959</td>\n",
       "      <td>07:00:00</td>\n",
       "    </tr>\n",
       "    <tr>\n",
       "      <th>4</th>\n",
       "      <td>EDMONTON INT'L. A</td>\n",
       "      <td>25142</td>\n",
       "      <td>53.32</td>\n",
       "      <td>113.58</td>\n",
       "      <td>105.0</td>\n",
       "      <td>1961</td>\n",
       "      <td>2005</td>\n",
       "      <td>07:00:00</td>\n",
       "    </tr>\n",
       "  </tbody>\n",
       "</table>\n",
       "</div>"
      ],
      "text/plain": [
       "                Name   WBAN    lat    long  mlong  first_year  last_year  \\\n",
       "0   CALGARY INT'L. A  25110  51.10  114.02  105.0        1953       2005   \n",
       "1        COLD LAKE A  25129  54.42  110.28  105.0        1954       2005   \n",
       "2         CORONATION  25113  52.10  111.45  105.0        1953       1994   \n",
       "3           COWLEY A  CAN43  49.63  114.08  105.0        1953       1959   \n",
       "4  EDMONTON INT'L. A  25142  53.32  113.58  105.0        1961       2005   \n",
       "\n",
       "   time_correction  \n",
       "0         07:00:00  \n",
       "1         07:00:00  \n",
       "2         07:00:00  \n",
       "3         07:00:00  \n",
       "4         07:00:00  "
      ]
     },
     "execution_count": 11,
     "metadata": {},
     "output_type": "execute_result"
    }
   ],
   "source": [
    "D_loc.head()"
   ]
  },
  {
   "cell_type": "code",
   "execution_count": 12,
   "metadata": {
    "collapsed": true
   },
   "outputs": [],
   "source": [
    "del D_loc['mlong'] #No longer needed"
   ]
  },
  {
   "cell_type": "code",
   "execution_count": 13,
   "metadata": {},
   "outputs": [
    {
     "data": {
      "text/html": [
       "<div>\n",
       "<table border=\"1\" class=\"dataframe\">\n",
       "  <thead>\n",
       "    <tr style=\"text-align: right;\">\n",
       "      <th></th>\n",
       "      <th>Name</th>\n",
       "      <th>WBAN</th>\n",
       "      <th>lat</th>\n",
       "      <th>long</th>\n",
       "      <th>first_year</th>\n",
       "      <th>last_year</th>\n",
       "      <th>time_correction</th>\n",
       "    </tr>\n",
       "  </thead>\n",
       "  <tbody>\n",
       "    <tr>\n",
       "      <th>0</th>\n",
       "      <td>CALGARY INT'L. A</td>\n",
       "      <td>25110</td>\n",
       "      <td>51.10</td>\n",
       "      <td>114.02</td>\n",
       "      <td>1953</td>\n",
       "      <td>2005</td>\n",
       "      <td>07:00:00</td>\n",
       "    </tr>\n",
       "    <tr>\n",
       "      <th>1</th>\n",
       "      <td>COLD LAKE A</td>\n",
       "      <td>25129</td>\n",
       "      <td>54.42</td>\n",
       "      <td>110.28</td>\n",
       "      <td>1954</td>\n",
       "      <td>2005</td>\n",
       "      <td>07:00:00</td>\n",
       "    </tr>\n",
       "    <tr>\n",
       "      <th>2</th>\n",
       "      <td>CORONATION</td>\n",
       "      <td>25113</td>\n",
       "      <td>52.10</td>\n",
       "      <td>111.45</td>\n",
       "      <td>1953</td>\n",
       "      <td>1994</td>\n",
       "      <td>07:00:00</td>\n",
       "    </tr>\n",
       "    <tr>\n",
       "      <th>3</th>\n",
       "      <td>COWLEY A</td>\n",
       "      <td>CAN43</td>\n",
       "      <td>49.63</td>\n",
       "      <td>114.08</td>\n",
       "      <td>1953</td>\n",
       "      <td>1959</td>\n",
       "      <td>07:00:00</td>\n",
       "    </tr>\n",
       "    <tr>\n",
       "      <th>4</th>\n",
       "      <td>EDMONTON INT'L. A</td>\n",
       "      <td>25142</td>\n",
       "      <td>53.32</td>\n",
       "      <td>113.58</td>\n",
       "      <td>1961</td>\n",
       "      <td>2005</td>\n",
       "      <td>07:00:00</td>\n",
       "    </tr>\n",
       "  </tbody>\n",
       "</table>\n",
       "</div>"
      ],
      "text/plain": [
       "                Name   WBAN    lat    long  first_year  last_year  \\\n",
       "0   CALGARY INT'L. A  25110  51.10  114.02        1953       2005   \n",
       "1        COLD LAKE A  25129  54.42  110.28        1954       2005   \n",
       "2         CORONATION  25113  52.10  111.45        1953       1994   \n",
       "3           COWLEY A  CAN43  49.63  114.08        1953       1959   \n",
       "4  EDMONTON INT'L. A  25142  53.32  113.58        1961       2005   \n",
       "\n",
       "   time_correction  \n",
       "0         07:00:00  \n",
       "1         07:00:00  \n",
       "2         07:00:00  \n",
       "3         07:00:00  \n",
       "4         07:00:00  "
      ]
     },
     "execution_count": 13,
     "metadata": {},
     "output_type": "execute_result"
    }
   ],
   "source": [
    "D_loc.head()"
   ]
  },
  {
   "cell_type": "code",
   "execution_count": 14,
   "metadata": {},
   "outputs": [
    {
     "name": "stdout",
     "output_type": "stream",
     "text": [
      "2.91 ms ± 11.8 µs per loop (mean ± std. dev. of 7 runs, 100 loops each)\n"
     ]
    }
   ],
   "source": [
    "def wban_fname(wban):\n",
    "    '''Convert the WBAN string into the filename we need to look for'''\n",
    "    for root, dirs, files in os.walk(DATA_DIR):\n",
    "        for f in files:\n",
    "            if f.endswith('WY2') and f.startswith(wban):\n",
    "                return root + '/' + f\n",
    "    return 404\n",
    "%timeit wban_fname('xxx') #check time to traverse whole directory structure"
   ]
  },
  {
   "cell_type": "code",
   "execution_count": 15,
   "metadata": {
    "collapsed": true
   },
   "outputs": [],
   "source": [
    "D_loc['WBAN_file'] = D_loc['WBAN'].apply(wban_fname)"
   ]
  },
  {
   "cell_type": "code",
   "execution_count": 16,
   "metadata": {},
   "outputs": [
    {
     "data": {
      "text/html": [
       "<div>\n",
       "<table border=\"1\" class=\"dataframe\">\n",
       "  <thead>\n",
       "    <tr style=\"text-align: right;\">\n",
       "      <th></th>\n",
       "      <th>Name</th>\n",
       "      <th>WBAN</th>\n",
       "      <th>lat</th>\n",
       "      <th>long</th>\n",
       "      <th>first_year</th>\n",
       "      <th>last_year</th>\n",
       "      <th>time_correction</th>\n",
       "      <th>WBAN_file</th>\n",
       "    </tr>\n",
       "  </thead>\n",
       "  <tbody>\n",
       "    <tr>\n",
       "      <th>0</th>\n",
       "      <td>CALGARY INT'L. A</td>\n",
       "      <td>25110</td>\n",
       "      <td>51.10</td>\n",
       "      <td>114.02</td>\n",
       "      <td>1953</td>\n",
       "      <td>2005</td>\n",
       "      <td>07:00:00</td>\n",
       "      <td>../data/raw/ALBERTA/CalgaryInt'l.A_1953-2005/2...</td>\n",
       "    </tr>\n",
       "    <tr>\n",
       "      <th>1</th>\n",
       "      <td>COLD LAKE A</td>\n",
       "      <td>25129</td>\n",
       "      <td>54.42</td>\n",
       "      <td>110.28</td>\n",
       "      <td>1954</td>\n",
       "      <td>2005</td>\n",
       "      <td>07:00:00</td>\n",
       "      <td>../data/raw/ALBERTA/ColdLakeA_1954-2005/25129.WY2</td>\n",
       "    </tr>\n",
       "    <tr>\n",
       "      <th>2</th>\n",
       "      <td>CORONATION</td>\n",
       "      <td>25113</td>\n",
       "      <td>52.10</td>\n",
       "      <td>111.45</td>\n",
       "      <td>1953</td>\n",
       "      <td>1994</td>\n",
       "      <td>07:00:00</td>\n",
       "      <td>../data/raw/ALBERTA/Coronation_1953-1994/25113...</td>\n",
       "    </tr>\n",
       "    <tr>\n",
       "      <th>3</th>\n",
       "      <td>COWLEY A</td>\n",
       "      <td>CAN43</td>\n",
       "      <td>49.63</td>\n",
       "      <td>114.08</td>\n",
       "      <td>1953</td>\n",
       "      <td>1959</td>\n",
       "      <td>07:00:00</td>\n",
       "      <td>../data/raw/ALBERTA/CowleyA_1953-1959/CAN43.WY2</td>\n",
       "    </tr>\n",
       "    <tr>\n",
       "      <th>4</th>\n",
       "      <td>EDMONTON INT'L. A</td>\n",
       "      <td>25142</td>\n",
       "      <td>53.32</td>\n",
       "      <td>113.58</td>\n",
       "      <td>1961</td>\n",
       "      <td>2005</td>\n",
       "      <td>07:00:00</td>\n",
       "      <td>../data/raw/ALBERTA/EdmontonInt'l.A_1961-2005/...</td>\n",
       "    </tr>\n",
       "  </tbody>\n",
       "</table>\n",
       "</div>"
      ],
      "text/plain": [
       "                Name   WBAN    lat    long  first_year  last_year  \\\n",
       "0   CALGARY INT'L. A  25110  51.10  114.02        1953       2005   \n",
       "1        COLD LAKE A  25129  54.42  110.28        1954       2005   \n",
       "2         CORONATION  25113  52.10  111.45        1953       1994   \n",
       "3           COWLEY A  CAN43  49.63  114.08        1953       1959   \n",
       "4  EDMONTON INT'L. A  25142  53.32  113.58        1961       2005   \n",
       "\n",
       "   time_correction                                          WBAN_file  \n",
       "0         07:00:00  ../data/raw/ALBERTA/CalgaryInt'l.A_1953-2005/2...  \n",
       "1         07:00:00  ../data/raw/ALBERTA/ColdLakeA_1954-2005/25129.WY2  \n",
       "2         07:00:00  ../data/raw/ALBERTA/Coronation_1953-1994/25113...  \n",
       "3         07:00:00    ../data/raw/ALBERTA/CowleyA_1953-1959/CAN43.WY2  \n",
       "4         07:00:00  ../data/raw/ALBERTA/EdmontonInt'l.A_1961-2005/...  "
      ]
     },
     "execution_count": 16,
     "metadata": {},
     "output_type": "execute_result"
    }
   ],
   "source": [
    "D_loc.head()"
   ]
  },
  {
   "cell_type": "code",
   "execution_count": 17,
   "metadata": {
    "collapsed": true
   },
   "outputs": [],
   "source": [
    "WY2_cols = [(6, 16), (91, 95), (95, 96)] #Time, temperature, temp flag\n",
    "col_names = ['Time', 'T', 'T_flag'] #Flags indicate missing or estimated data"
   ]
  },
  {
   "cell_type": "code",
   "execution_count": 18,
   "metadata": {
    "collapsed": true
   },
   "outputs": [],
   "source": [
    "#Hours are from 01...24, so we must subtract 1 from the hour\n",
    "\n",
    "#Parsing the date takes by far the most time\n",
    "def process_wy2f(file_path, time_correction):\n",
    "    #0: Observed\n",
    "    #-1: Missing data\n",
    "    #1: Algorithmically adjusted\n",
    "    #2: Hand estimate\n",
    "    #3: Interpolated\n",
    "    #4: Determined from a model\n",
    "    #5: Derived\n",
    "    Tflags = {'': 0,'9': -1, 'A': 1, 'E': 2, 'I': 3, 'M': 4, 'Q': 5}\n",
    "    convert_Tflag = lambda tf: Tflags[tf]\n",
    "    #date_parser = lambda d: pd.to_datetime(str(int(d) - 1), format = '%Y%m%d%H') + td_1hr\n",
    "    #This is about 5x faster\n",
    "    date_parser = lambda d: datetime.datetime(int(d[0:4]), int(d[4:6]), int(d[6:8]), int(d[8:10]) - 1)\n",
    "    D = pd.read_fwf(file_path, colspecs = WY2_cols, nrows = 100,\n",
    "                header = None, names = col_names, parse_dates = ['Time'],\n",
    "                converters = {'T_flag' : convert_Tflag},\n",
    "                date_parser = date_parser)\n",
    "    D['T_flag'].fillna('0')\n",
    "    D.loc[:, 'T'] = D.loc[:, 'T'] / 10\n",
    "    D.loc[:, 'Time'] = D.loc[:, 'Time'] + time_correction\n",
    "    D.index = pd.DatetimeIndex(D.loc[:, 'Time'])\n",
    "    del D['Time']\n",
    "    return D"
   ]
  },
  {
   "cell_type": "code",
   "execution_count": 23,
   "metadata": {},
   "outputs": [
    {
     "name": "stdout",
     "output_type": "stream",
     "text": [
      "4.24 ms ± 19.6 µs per loop (mean ± std. dev. of 7 runs, 100 loops each)\n"
     ]
    }
   ],
   "source": [
    "D = process_wy2f(D_loc['WBAN_file'][0], D_loc['time_correction'][0])\n",
    "%timeit process_wy2f(D_loc['WBAN_file'][0], D_loc['time_correction'][0])"
   ]
  },
  {
   "cell_type": "code",
   "execution_count": 24,
   "metadata": {},
   "outputs": [
    {
     "data": {
      "text/html": [
       "<div>\n",
       "<table border=\"1\" class=\"dataframe\">\n",
       "  <thead>\n",
       "    <tr style=\"text-align: right;\">\n",
       "      <th></th>\n",
       "      <th>T</th>\n",
       "      <th>T_flag</th>\n",
       "    </tr>\n",
       "    <tr>\n",
       "      <th>Time</th>\n",
       "      <th></th>\n",
       "      <th></th>\n",
       "    </tr>\n",
       "  </thead>\n",
       "  <tbody>\n",
       "    <tr>\n",
       "      <th>1953-01-01 07:00:00</th>\n",
       "      <td>-1.1</td>\n",
       "      <td>0</td>\n",
       "    </tr>\n",
       "    <tr>\n",
       "      <th>1953-01-01 08:00:00</th>\n",
       "      <td>-0.6</td>\n",
       "      <td>0</td>\n",
       "    </tr>\n",
       "    <tr>\n",
       "      <th>1953-01-01 09:00:00</th>\n",
       "      <td>0.0</td>\n",
       "      <td>0</td>\n",
       "    </tr>\n",
       "    <tr>\n",
       "      <th>1953-01-01 10:00:00</th>\n",
       "      <td>0.0</td>\n",
       "      <td>0</td>\n",
       "    </tr>\n",
       "    <tr>\n",
       "      <th>1953-01-01 11:00:00</th>\n",
       "      <td>-1.7</td>\n",
       "      <td>0</td>\n",
       "    </tr>\n",
       "  </tbody>\n",
       "</table>\n",
       "</div>"
      ],
      "text/plain": [
       "                       T  T_flag\n",
       "Time                            \n",
       "1953-01-01 07:00:00 -1.1       0\n",
       "1953-01-01 08:00:00 -0.6       0\n",
       "1953-01-01 09:00:00  0.0       0\n",
       "1953-01-01 10:00:00  0.0       0\n",
       "1953-01-01 11:00:00 -1.7       0"
      ]
     },
     "execution_count": 24,
     "metadata": {},
     "output_type": "execute_result"
    }
   ],
   "source": [
    "D.head()"
   ]
  },
  {
   "cell_type": "code",
   "execution_count": 25,
   "metadata": {},
   "outputs": [
    {
     "data": {
      "text/html": [
       "<div>\n",
       "<table border=\"1\" class=\"dataframe\">\n",
       "  <thead>\n",
       "    <tr style=\"text-align: right;\">\n",
       "      <th></th>\n",
       "      <th>T</th>\n",
       "      <th>T_flag</th>\n",
       "    </tr>\n",
       "    <tr>\n",
       "      <th>Time</th>\n",
       "      <th></th>\n",
       "      <th></th>\n",
       "    </tr>\n",
       "  </thead>\n",
       "  <tbody>\n",
       "    <tr>\n",
       "      <th>1953-01-01 07:00:00</th>\n",
       "      <td>-1.1</td>\n",
       "      <td>0</td>\n",
       "    </tr>\n",
       "    <tr>\n",
       "      <th>1953-01-01 08:00:00</th>\n",
       "      <td>-0.6</td>\n",
       "      <td>0</td>\n",
       "    </tr>\n",
       "    <tr>\n",
       "      <th>1953-01-01 09:00:00</th>\n",
       "      <td>0.0</td>\n",
       "      <td>0</td>\n",
       "    </tr>\n",
       "    <tr>\n",
       "      <th>1953-01-01 10:00:00</th>\n",
       "      <td>0.0</td>\n",
       "      <td>0</td>\n",
       "    </tr>\n",
       "    <tr>\n",
       "      <th>1953-01-01 11:00:00</th>\n",
       "      <td>-1.7</td>\n",
       "      <td>0</td>\n",
       "    </tr>\n",
       "  </tbody>\n",
       "</table>\n",
       "</div>"
      ],
      "text/plain": [
       "                       T  T_flag\n",
       "Time                            \n",
       "1953-01-01 07:00:00 -1.1       0\n",
       "1953-01-01 08:00:00 -0.6       0\n",
       "1953-01-01 09:00:00  0.0       0\n",
       "1953-01-01 10:00:00  0.0       0\n",
       "1953-01-01 11:00:00 -1.7       0"
      ]
     },
     "execution_count": 25,
     "metadata": {},
     "output_type": "execute_result"
    }
   ],
   "source": [
    "D.to_hdf('test.hdf', key = 'test')\n",
    "D = pd.read_hdf('test.hdf', key = 'test')\n",
    "D.head()"
   ]
  },
  {
   "cell_type": "code",
   "execution_count": 26,
   "metadata": {},
   "outputs": [
    {
     "data": {
      "text/plain": [
       "<generator object <genexpr> at 0x7fc1a84a5048>"
      ]
     },
     "execution_count": 26,
     "metadata": {},
     "output_type": "execute_result"
    }
   ],
   "source": [
    "#Iterator on row pd.Series objects\n",
    "#This is used with map to process\n",
    "#all the files in parallel.\n",
    "(r for i, r in D_loc.iterrows())"
   ]
  },
  {
   "cell_type": "code",
   "execution_count": null,
   "metadata": {
    "collapsed": true
   },
   "outputs": [],
   "source": []
  }
 ],
 "metadata": {
  "kernelspec": {
   "display_name": "Python 3",
   "language": "python",
   "name": "python3"
  },
  "language_info": {
   "codemirror_mode": {
    "name": "ipython",
    "version": 3
   },
   "file_extension": ".py",
   "mimetype": "text/x-python",
   "name": "python",
   "nbconvert_exporter": "python",
   "pygments_lexer": "ipython3",
   "version": "3.5.2"
  }
 },
 "nbformat": 4,
 "nbformat_minor": 2
}
