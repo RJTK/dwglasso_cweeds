{
 "cells": [
  {
   "cell_type": "code",
   "execution_count": 238,
   "metadata": {
    "collapsed": true
   },
   "outputs": [],
   "source": [
    "%matplotlib inline\n",
    "import pandas as pd\n",
    "import datetime\n",
    "import os\n",
    "from matplotlib import pyplot as plt; plt.rcParams['figure.figsize'] = 15, 5\n",
    "\n",
    "DATA_DIR = '../data/raw/'\n",
    "#The files are given as fixed width files.\n",
    "#See Documentation in ../data/\n",
    "WY2_colspecs = [(0, 5), (5, 6), (6, 16), (16, 20), (20, 24),\n",
    "                (24, 26), (26, 30), (30, 32), (32, 36), (36, 38),\n",
    "                (38, 42), (42, 43), (43, 47), (47, 48), (48, 52),\n",
    "                (52, 53), (53, 57), (57, 58), (58, 60), (60, 61),\n",
    "                (61, 65), (65, 66), (66, 70), (70, 71), (71, 75),\n",
    "                (75, 76), (76, 84), (84, 85), (85, 90), (90, 91),\n",
    "                (91, 92), (92, 95), (95, 96), (96, 100), (100, 101),\n",
    "                (101, 104), (104, 105), (105, 109), (109, 110),\n",
    "                (110, 112), (112, 113), (113, 115), (115, 116),\n",
    "                (116, 117), (117, 118)]\n",
    "\n",
    "WY2_usefulcols = [(6, 16), (91, 95), (95, 96)] #Time, temperature, temp flag\n",
    "col_names = ['Time', 'T', 'T_flag'] #Flags indicate missing or estimated data"
   ]
  },
  {
   "cell_type": "code",
   "execution_count": 86,
   "metadata": {
    "collapsed": true
   },
   "outputs": [],
   "source": [
    "#Hours are from 01...24, but we can only parse 00...23.\n",
    "#so subtract 1 from the hour, then add back the time difference\n",
    "#hour 24 will become 00 of the next day.\n",
    "td_1hr = datetime.timedelta(hours = 1)\n",
    "D = pd.read_fwf(DATA_DIR + '/SASKATCHEWAN/ReginaA_1953-2005/25005.WY2', colspecs = WY2_usefulcols,\n",
    "                header = None, names = col_names, parse_dates = True, nrows = 100,\n",
    "                date_parser = lambda d: pd.to_datetime(str(int(d) - 1), format = '%Y%m%d%H') + td_1hr)"
   ]
  },
  {
   "cell_type": "code",
   "execution_count": 87,
   "metadata": {},
   "outputs": [
    {
     "data": {
      "text/html": [
       "<div>\n",
       "<table border=\"1\" class=\"dataframe\">\n",
       "  <thead>\n",
       "    <tr style=\"text-align: right;\">\n",
       "      <th></th>\n",
       "      <th>Time</th>\n",
       "      <th>T</th>\n",
       "      <th>T_flag</th>\n",
       "    </tr>\n",
       "  </thead>\n",
       "  <tbody>\n",
       "    <tr>\n",
       "      <th>0</th>\n",
       "      <td>1953010101</td>\n",
       "      <td>-106</td>\n",
       "      <td>NaN</td>\n",
       "    </tr>\n",
       "    <tr>\n",
       "      <th>1</th>\n",
       "      <td>1953010102</td>\n",
       "      <td>-122</td>\n",
       "      <td>NaN</td>\n",
       "    </tr>\n",
       "    <tr>\n",
       "      <th>2</th>\n",
       "      <td>1953010103</td>\n",
       "      <td>-128</td>\n",
       "      <td>NaN</td>\n",
       "    </tr>\n",
       "    <tr>\n",
       "      <th>3</th>\n",
       "      <td>1953010104</td>\n",
       "      <td>-128</td>\n",
       "      <td>NaN</td>\n",
       "    </tr>\n",
       "    <tr>\n",
       "      <th>4</th>\n",
       "      <td>1953010105</td>\n",
       "      <td>-122</td>\n",
       "      <td>NaN</td>\n",
       "    </tr>\n",
       "  </tbody>\n",
       "</table>\n",
       "</div>"
      ],
      "text/plain": [
       "         Time    T  T_flag\n",
       "0  1953010101 -106     NaN\n",
       "1  1953010102 -122     NaN\n",
       "2  1953010103 -128     NaN\n",
       "3  1953010104 -128     NaN\n",
       "4  1953010105 -122     NaN"
      ]
     },
     "execution_count": 87,
     "metadata": {},
     "output_type": "execute_result"
    }
   ],
   "source": [
    "D.head()"
   ]
  },
  {
   "cell_type": "markdown",
   "metadata": {},
   "source": [
    "There is also a metadata file that contains lat long coordinates of stations, identified by their WBAN number.\n",
    "\n",
    "Further, the time recordings at each station are given in \"local standard time\" (LST), and the mlong coordinate provides a means to convert to UTC (universal time): LST = UTC - MLONG/15, or UTC = LST + MLONG/15.  I will convert all of the times into UTC"
   ]
  },
  {
   "cell_type": "code",
   "execution_count": 222,
   "metadata": {
    "collapsed": true
   },
   "outputs": [],
   "source": [
    "col_names = ['Name',  'WBAN',   'lat',    'long',  'mlong', 'first_year', 'last_year']\n",
    "loc_cols =  [(0,24), (24, 30), (45, 52), (52, 58), (59, 65),  (74, 76),     (77, 79)]"
   ]
  },
  {
   "cell_type": "code",
   "execution_count": 223,
   "metadata": {},
   "outputs": [],
   "source": [
    "D = pd.read_fwf(DATA_DIR + 'locations.txt', colspecs = loc_cols, comment = '#',\n",
    "                header = None, names = col_names)"
   ]
  },
  {
   "cell_type": "code",
   "execution_count": 224,
   "metadata": {},
   "outputs": [
    {
     "data": {
      "text/html": [
       "<div>\n",
       "<table border=\"1\" class=\"dataframe\">\n",
       "  <thead>\n",
       "    <tr style=\"text-align: right;\">\n",
       "      <th></th>\n",
       "      <th>Name</th>\n",
       "      <th>WBAN</th>\n",
       "      <th>lat</th>\n",
       "      <th>long</th>\n",
       "      <th>mlong</th>\n",
       "      <th>first_year</th>\n",
       "      <th>last_year</th>\n",
       "    </tr>\n",
       "  </thead>\n",
       "  <tbody>\n",
       "    <tr>\n",
       "      <th>0</th>\n",
       "      <td>CALGARY INT'L. A</td>\n",
       "      <td>25110</td>\n",
       "      <td>51.10</td>\n",
       "      <td>114.02</td>\n",
       "      <td>105.0</td>\n",
       "      <td>53</td>\n",
       "      <td>5</td>\n",
       "    </tr>\n",
       "    <tr>\n",
       "      <th>1</th>\n",
       "      <td>COLD LAKE A</td>\n",
       "      <td>25129</td>\n",
       "      <td>54.42</td>\n",
       "      <td>110.28</td>\n",
       "      <td>105.0</td>\n",
       "      <td>54</td>\n",
       "      <td>5</td>\n",
       "    </tr>\n",
       "    <tr>\n",
       "      <th>2</th>\n",
       "      <td>CORONATION</td>\n",
       "      <td>25113</td>\n",
       "      <td>52.10</td>\n",
       "      <td>111.45</td>\n",
       "      <td>105.0</td>\n",
       "      <td>53</td>\n",
       "      <td>94</td>\n",
       "    </tr>\n",
       "    <tr>\n",
       "      <th>3</th>\n",
       "      <td>COWLEY A</td>\n",
       "      <td>CAN43</td>\n",
       "      <td>49.63</td>\n",
       "      <td>114.08</td>\n",
       "      <td>105.0</td>\n",
       "      <td>53</td>\n",
       "      <td>59</td>\n",
       "    </tr>\n",
       "    <tr>\n",
       "      <th>4</th>\n",
       "      <td>EDMONTON INT'L. A</td>\n",
       "      <td>25142</td>\n",
       "      <td>53.32</td>\n",
       "      <td>113.58</td>\n",
       "      <td>105.0</td>\n",
       "      <td>61</td>\n",
       "      <td>5</td>\n",
       "    </tr>\n",
       "  </tbody>\n",
       "</table>\n",
       "</div>"
      ],
      "text/plain": [
       "                Name   WBAN    lat    long  mlong  first_year  last_year\n",
       "0   CALGARY INT'L. A  25110  51.10  114.02  105.0          53          5\n",
       "1        COLD LAKE A  25129  54.42  110.28  105.0          54          5\n",
       "2         CORONATION  25113  52.10  111.45  105.0          53         94\n",
       "3           COWLEY A  CAN43  49.63  114.08  105.0          53         59\n",
       "4  EDMONTON INT'L. A  25142  53.32  113.58  105.0          61          5"
      ]
     },
     "execution_count": 224,
     "metadata": {},
     "output_type": "execute_result"
    }
   ],
   "source": [
    "D.head()"
   ]
  },
  {
   "cell_type": "code",
   "execution_count": 251,
   "metadata": {},
   "outputs": [],
   "source": [
    "#The year is specified only with the last 2 digits\n",
    "#but, data collection started in after 1950 and ended before 2050\n",
    "def fix_year(yr : int):\n",
    "    if yr > 50:\n",
    "        yr += 1900\n",
    "    else:\n",
    "        yr += 2000\n",
    "    return yr"
   ]
  },
  {
   "cell_type": "code",
   "execution_count": 226,
   "metadata": {},
   "outputs": [],
   "source": [
    "D.loc[:, ['first_year', 'last_year']] = D.loc[:, ['first_year', 'last_year']].applymap(fix_year)"
   ]
  },
  {
   "cell_type": "code",
   "execution_count": 227,
   "metadata": {},
   "outputs": [
    {
     "data": {
      "text/html": [
       "<div>\n",
       "<table border=\"1\" class=\"dataframe\">\n",
       "  <thead>\n",
       "    <tr style=\"text-align: right;\">\n",
       "      <th></th>\n",
       "      <th>Name</th>\n",
       "      <th>WBAN</th>\n",
       "      <th>lat</th>\n",
       "      <th>long</th>\n",
       "      <th>mlong</th>\n",
       "      <th>first_year</th>\n",
       "      <th>last_year</th>\n",
       "    </tr>\n",
       "  </thead>\n",
       "  <tbody>\n",
       "    <tr>\n",
       "      <th>0</th>\n",
       "      <td>CALGARY INT'L. A</td>\n",
       "      <td>25110</td>\n",
       "      <td>51.10</td>\n",
       "      <td>114.02</td>\n",
       "      <td>105.0</td>\n",
       "      <td>1953</td>\n",
       "      <td>2005</td>\n",
       "    </tr>\n",
       "    <tr>\n",
       "      <th>1</th>\n",
       "      <td>COLD LAKE A</td>\n",
       "      <td>25129</td>\n",
       "      <td>54.42</td>\n",
       "      <td>110.28</td>\n",
       "      <td>105.0</td>\n",
       "      <td>1954</td>\n",
       "      <td>2005</td>\n",
       "    </tr>\n",
       "    <tr>\n",
       "      <th>2</th>\n",
       "      <td>CORONATION</td>\n",
       "      <td>25113</td>\n",
       "      <td>52.10</td>\n",
       "      <td>111.45</td>\n",
       "      <td>105.0</td>\n",
       "      <td>1953</td>\n",
       "      <td>1994</td>\n",
       "    </tr>\n",
       "    <tr>\n",
       "      <th>3</th>\n",
       "      <td>COWLEY A</td>\n",
       "      <td>CAN43</td>\n",
       "      <td>49.63</td>\n",
       "      <td>114.08</td>\n",
       "      <td>105.0</td>\n",
       "      <td>1953</td>\n",
       "      <td>1959</td>\n",
       "    </tr>\n",
       "    <tr>\n",
       "      <th>4</th>\n",
       "      <td>EDMONTON INT'L. A</td>\n",
       "      <td>25142</td>\n",
       "      <td>53.32</td>\n",
       "      <td>113.58</td>\n",
       "      <td>105.0</td>\n",
       "      <td>1961</td>\n",
       "      <td>2005</td>\n",
       "    </tr>\n",
       "  </tbody>\n",
       "</table>\n",
       "</div>"
      ],
      "text/plain": [
       "                Name   WBAN    lat    long  mlong  first_year  last_year\n",
       "0   CALGARY INT'L. A  25110  51.10  114.02  105.0        1953       2005\n",
       "1        COLD LAKE A  25129  54.42  110.28  105.0        1954       2005\n",
       "2         CORONATION  25113  52.10  111.45  105.0        1953       1994\n",
       "3           COWLEY A  CAN43  49.63  114.08  105.0        1953       1959\n",
       "4  EDMONTON INT'L. A  25142  53.32  113.58  105.0        1961       2005"
      ]
     },
     "execution_count": 227,
     "metadata": {},
     "output_type": "execute_result"
    }
   ],
   "source": [
    "D.head()"
   ]
  },
  {
   "cell_type": "code",
   "execution_count": 252,
   "metadata": {},
   "outputs": [],
   "source": [
    "def time_correction(mlong : float):\n",
    "    '''The time delta to add to an LST time to yield a UTC time,\n",
    "    given the prime meridian mlong in degrees.'''\n",
    "    return datetime.timedelta(minutes = mlong / 15)"
   ]
  },
  {
   "cell_type": "code",
   "execution_count": 229,
   "metadata": {},
   "outputs": [],
   "source": [
    "D['time_correction'] = D.loc[:, 'mlong'].apply(time_correction)"
   ]
  },
  {
   "cell_type": "code",
   "execution_count": 230,
   "metadata": {},
   "outputs": [
    {
     "data": {
      "text/html": [
       "<div>\n",
       "<table border=\"1\" class=\"dataframe\">\n",
       "  <thead>\n",
       "    <tr style=\"text-align: right;\">\n",
       "      <th></th>\n",
       "      <th>Name</th>\n",
       "      <th>WBAN</th>\n",
       "      <th>lat</th>\n",
       "      <th>long</th>\n",
       "      <th>mlong</th>\n",
       "      <th>first_year</th>\n",
       "      <th>last_year</th>\n",
       "      <th>time_correction</th>\n",
       "    </tr>\n",
       "  </thead>\n",
       "  <tbody>\n",
       "    <tr>\n",
       "      <th>0</th>\n",
       "      <td>CALGARY INT'L. A</td>\n",
       "      <td>25110</td>\n",
       "      <td>51.10</td>\n",
       "      <td>114.02</td>\n",
       "      <td>105.0</td>\n",
       "      <td>1953</td>\n",
       "      <td>2005</td>\n",
       "      <td>00:07:00</td>\n",
       "    </tr>\n",
       "    <tr>\n",
       "      <th>1</th>\n",
       "      <td>COLD LAKE A</td>\n",
       "      <td>25129</td>\n",
       "      <td>54.42</td>\n",
       "      <td>110.28</td>\n",
       "      <td>105.0</td>\n",
       "      <td>1954</td>\n",
       "      <td>2005</td>\n",
       "      <td>00:07:00</td>\n",
       "    </tr>\n",
       "    <tr>\n",
       "      <th>2</th>\n",
       "      <td>CORONATION</td>\n",
       "      <td>25113</td>\n",
       "      <td>52.10</td>\n",
       "      <td>111.45</td>\n",
       "      <td>105.0</td>\n",
       "      <td>1953</td>\n",
       "      <td>1994</td>\n",
       "      <td>00:07:00</td>\n",
       "    </tr>\n",
       "    <tr>\n",
       "      <th>3</th>\n",
       "      <td>COWLEY A</td>\n",
       "      <td>CAN43</td>\n",
       "      <td>49.63</td>\n",
       "      <td>114.08</td>\n",
       "      <td>105.0</td>\n",
       "      <td>1953</td>\n",
       "      <td>1959</td>\n",
       "      <td>00:07:00</td>\n",
       "    </tr>\n",
       "    <tr>\n",
       "      <th>4</th>\n",
       "      <td>EDMONTON INT'L. A</td>\n",
       "      <td>25142</td>\n",
       "      <td>53.32</td>\n",
       "      <td>113.58</td>\n",
       "      <td>105.0</td>\n",
       "      <td>1961</td>\n",
       "      <td>2005</td>\n",
       "      <td>00:07:00</td>\n",
       "    </tr>\n",
       "  </tbody>\n",
       "</table>\n",
       "</div>"
      ],
      "text/plain": [
       "                Name   WBAN    lat    long  mlong  first_year  last_year  \\\n",
       "0   CALGARY INT'L. A  25110  51.10  114.02  105.0        1953       2005   \n",
       "1        COLD LAKE A  25129  54.42  110.28  105.0        1954       2005   \n",
       "2         CORONATION  25113  52.10  111.45  105.0        1953       1994   \n",
       "3           COWLEY A  CAN43  49.63  114.08  105.0        1953       1959   \n",
       "4  EDMONTON INT'L. A  25142  53.32  113.58  105.0        1961       2005   \n",
       "\n",
       "   time_correction  \n",
       "0         00:07:00  \n",
       "1         00:07:00  \n",
       "2         00:07:00  \n",
       "3         00:07:00  \n",
       "4         00:07:00  "
      ]
     },
     "execution_count": 230,
     "metadata": {},
     "output_type": "execute_result"
    }
   ],
   "source": [
    "D.head()"
   ]
  },
  {
   "cell_type": "code",
   "execution_count": 231,
   "metadata": {},
   "outputs": [],
   "source": [
    "del D['mlong'] #No longer needed"
   ]
  },
  {
   "cell_type": "code",
   "execution_count": 232,
   "metadata": {},
   "outputs": [
    {
     "data": {
      "text/html": [
       "<div>\n",
       "<table border=\"1\" class=\"dataframe\">\n",
       "  <thead>\n",
       "    <tr style=\"text-align: right;\">\n",
       "      <th></th>\n",
       "      <th>Name</th>\n",
       "      <th>WBAN</th>\n",
       "      <th>lat</th>\n",
       "      <th>long</th>\n",
       "      <th>first_year</th>\n",
       "      <th>last_year</th>\n",
       "      <th>time_correction</th>\n",
       "    </tr>\n",
       "  </thead>\n",
       "  <tbody>\n",
       "    <tr>\n",
       "      <th>0</th>\n",
       "      <td>CALGARY INT'L. A</td>\n",
       "      <td>25110</td>\n",
       "      <td>51.10</td>\n",
       "      <td>114.02</td>\n",
       "      <td>1953</td>\n",
       "      <td>2005</td>\n",
       "      <td>00:07:00</td>\n",
       "    </tr>\n",
       "    <tr>\n",
       "      <th>1</th>\n",
       "      <td>COLD LAKE A</td>\n",
       "      <td>25129</td>\n",
       "      <td>54.42</td>\n",
       "      <td>110.28</td>\n",
       "      <td>1954</td>\n",
       "      <td>2005</td>\n",
       "      <td>00:07:00</td>\n",
       "    </tr>\n",
       "    <tr>\n",
       "      <th>2</th>\n",
       "      <td>CORONATION</td>\n",
       "      <td>25113</td>\n",
       "      <td>52.10</td>\n",
       "      <td>111.45</td>\n",
       "      <td>1953</td>\n",
       "      <td>1994</td>\n",
       "      <td>00:07:00</td>\n",
       "    </tr>\n",
       "    <tr>\n",
       "      <th>3</th>\n",
       "      <td>COWLEY A</td>\n",
       "      <td>CAN43</td>\n",
       "      <td>49.63</td>\n",
       "      <td>114.08</td>\n",
       "      <td>1953</td>\n",
       "      <td>1959</td>\n",
       "      <td>00:07:00</td>\n",
       "    </tr>\n",
       "    <tr>\n",
       "      <th>4</th>\n",
       "      <td>EDMONTON INT'L. A</td>\n",
       "      <td>25142</td>\n",
       "      <td>53.32</td>\n",
       "      <td>113.58</td>\n",
       "      <td>1961</td>\n",
       "      <td>2005</td>\n",
       "      <td>00:07:00</td>\n",
       "    </tr>\n",
       "  </tbody>\n",
       "</table>\n",
       "</div>"
      ],
      "text/plain": [
       "                Name   WBAN    lat    long  first_year  last_year  \\\n",
       "0   CALGARY INT'L. A  25110  51.10  114.02        1953       2005   \n",
       "1        COLD LAKE A  25129  54.42  110.28        1954       2005   \n",
       "2         CORONATION  25113  52.10  111.45        1953       1994   \n",
       "3           COWLEY A  CAN43  49.63  114.08        1953       1959   \n",
       "4  EDMONTON INT'L. A  25142  53.32  113.58        1961       2005   \n",
       "\n",
       "   time_correction  \n",
       "0         00:07:00  \n",
       "1         00:07:00  \n",
       "2         00:07:00  \n",
       "3         00:07:00  \n",
       "4         00:07:00  "
      ]
     },
     "execution_count": 232,
     "metadata": {},
     "output_type": "execute_result"
    }
   ],
   "source": [
    "D.head()"
   ]
  },
  {
   "cell_type": "code",
   "execution_count": 253,
   "metadata": {},
   "outputs": [
    {
     "name": "stdout",
     "output_type": "stream",
     "text": [
      "2.98 ms ± 30.1 µs per loop (mean ± std. dev. of 7 runs, 100 loops each)\n"
     ]
    }
   ],
   "source": [
    "def wban_fname(wban):\n",
    "    '''Convert the WBAN string into the filename we need to look for'''\n",
    "    for root, dirs, files in os.walk(DATA_DIR):\n",
    "        for f in files:\n",
    "            if f.endswith('WY2') and f.startswith(wban):\n",
    "                return root + '/' + f\n",
    "    return 404\n",
    "%timeit wban_fname('xxx') #check time to traverse whole directory structure"
   ]
  },
  {
   "cell_type": "code",
   "execution_count": 243,
   "metadata": {},
   "outputs": [],
   "source": [
    "D['WBAN_file'] = D['WBAN'].apply(wban_fname)"
   ]
  },
  {
   "cell_type": "code",
   "execution_count": 244,
   "metadata": {},
   "outputs": [
    {
     "data": {
      "text/html": [
       "<div>\n",
       "<table border=\"1\" class=\"dataframe\">\n",
       "  <thead>\n",
       "    <tr style=\"text-align: right;\">\n",
       "      <th></th>\n",
       "      <th>Name</th>\n",
       "      <th>WBAN</th>\n",
       "      <th>lat</th>\n",
       "      <th>long</th>\n",
       "      <th>first_year</th>\n",
       "      <th>last_year</th>\n",
       "      <th>time_correction</th>\n",
       "      <th>WBAN_file</th>\n",
       "    </tr>\n",
       "  </thead>\n",
       "  <tbody>\n",
       "    <tr>\n",
       "      <th>0</th>\n",
       "      <td>CALGARY INT'L. A</td>\n",
       "      <td>25110</td>\n",
       "      <td>51.10</td>\n",
       "      <td>114.02</td>\n",
       "      <td>1953</td>\n",
       "      <td>2005</td>\n",
       "      <td>00:07:00</td>\n",
       "      <td>../data/raw/ALBERTA/CalgaryInt'l.A_1953-2005/2...</td>\n",
       "    </tr>\n",
       "    <tr>\n",
       "      <th>1</th>\n",
       "      <td>COLD LAKE A</td>\n",
       "      <td>25129</td>\n",
       "      <td>54.42</td>\n",
       "      <td>110.28</td>\n",
       "      <td>1954</td>\n",
       "      <td>2005</td>\n",
       "      <td>00:07:00</td>\n",
       "      <td>../data/raw/ALBERTA/ColdLakeA_1954-2005/25129.WY2</td>\n",
       "    </tr>\n",
       "    <tr>\n",
       "      <th>2</th>\n",
       "      <td>CORONATION</td>\n",
       "      <td>25113</td>\n",
       "      <td>52.10</td>\n",
       "      <td>111.45</td>\n",
       "      <td>1953</td>\n",
       "      <td>1994</td>\n",
       "      <td>00:07:00</td>\n",
       "      <td>../data/raw/ALBERTA/Coronation_1953-1994/25113...</td>\n",
       "    </tr>\n",
       "    <tr>\n",
       "      <th>3</th>\n",
       "      <td>COWLEY A</td>\n",
       "      <td>CAN43</td>\n",
       "      <td>49.63</td>\n",
       "      <td>114.08</td>\n",
       "      <td>1953</td>\n",
       "      <td>1959</td>\n",
       "      <td>00:07:00</td>\n",
       "      <td>../data/raw/ALBERTA/CowleyA_1953-1959/CAN43.WY2</td>\n",
       "    </tr>\n",
       "    <tr>\n",
       "      <th>4</th>\n",
       "      <td>EDMONTON INT'L. A</td>\n",
       "      <td>25142</td>\n",
       "      <td>53.32</td>\n",
       "      <td>113.58</td>\n",
       "      <td>1961</td>\n",
       "      <td>2005</td>\n",
       "      <td>00:07:00</td>\n",
       "      <td>../data/raw/ALBERTA/EdmontonInt'l.A_1961-2005/...</td>\n",
       "    </tr>\n",
       "  </tbody>\n",
       "</table>\n",
       "</div>"
      ],
      "text/plain": [
       "                Name   WBAN    lat    long  first_year  last_year  \\\n",
       "0   CALGARY INT'L. A  25110  51.10  114.02        1953       2005   \n",
       "1        COLD LAKE A  25129  54.42  110.28        1954       2005   \n",
       "2         CORONATION  25113  52.10  111.45        1953       1994   \n",
       "3           COWLEY A  CAN43  49.63  114.08        1953       1959   \n",
       "4  EDMONTON INT'L. A  25142  53.32  113.58        1961       2005   \n",
       "\n",
       "   time_correction                                          WBAN_file  \n",
       "0         00:07:00  ../data/raw/ALBERTA/CalgaryInt'l.A_1953-2005/2...  \n",
       "1         00:07:00  ../data/raw/ALBERTA/ColdLakeA_1954-2005/25129.WY2  \n",
       "2         00:07:00  ../data/raw/ALBERTA/Coronation_1953-1994/25113...  \n",
       "3         00:07:00    ../data/raw/ALBERTA/CowleyA_1953-1959/CAN43.WY2  \n",
       "4         00:07:00  ../data/raw/ALBERTA/EdmontonInt'l.A_1961-2005/...  "
      ]
     },
     "execution_count": 244,
     "metadata": {},
     "output_type": "execute_result"
    }
   ],
   "source": [
    "D.head()"
   ]
  },
  {
   "cell_type": "code",
   "execution_count": 245,
   "metadata": {},
   "outputs": [
    {
     "data": {
      "text/plain": [
       "\"../data/raw/ALBERTA/CalgaryInt'l.A_1953-2005/25110.WY2\""
      ]
     },
     "execution_count": 245,
     "metadata": {},
     "output_type": "execute_result"
    }
   ],
   "source": [
    "D['WBAN_file'][0]"
   ]
  },
  {
   "cell_type": "code",
   "execution_count": 254,
   "metadata": {},
   "outputs": [
    {
     "data": {
      "text/plain": [
       "'/home/ubuntu/science/dwglasso_cweeds/notebooks'"
      ]
     },
     "execution_count": 254,
     "metadata": {},
     "output_type": "execute_result"
    }
   ],
   "source": [
    "os.getcwd()"
   ]
  },
  {
   "cell_type": "code",
   "execution_count": 255,
   "metadata": {},
   "outputs": [
    {
     "data": {
      "text/plain": [
       "b'/home/ubuntu/science/dwglasso_cweeds/notebooks'"
      ]
     },
     "execution_count": 255,
     "metadata": {},
     "output_type": "execute_result"
    }
   ],
   "source": [
    "os.c"
   ]
  },
  {
   "cell_type": "code",
   "execution_count": null,
   "metadata": {
    "collapsed": true
   },
   "outputs": [],
   "source": []
  }
 ],
 "metadata": {
  "kernelspec": {
   "display_name": "Python 3",
   "language": "python",
   "name": "python3"
  },
  "language_info": {
   "codemirror_mode": {
    "name": "ipython",
    "version": 3
   },
   "file_extension": ".py",
   "mimetype": "text/x-python",
   "name": "python",
   "nbconvert_exporter": "python",
   "pygments_lexer": "ipython3",
   "version": "3.5.2"
  }
 },
 "nbformat": 4,
 "nbformat_minor": 2
}
